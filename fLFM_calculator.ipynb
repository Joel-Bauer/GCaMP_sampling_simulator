{
 "cells": [
  {
   "cell_type": "code",
   "execution_count": 261,
   "metadata": {},
   "outputs": [],
   "source": [
    "import numpy as np\n",
    "import matplotlib.pyplot as plt"
   ]
  },
  {
   "cell_type": "code",
   "execution_count": 270,
   "metadata": {},
   "outputs": [
    {
     "name": "stdout",
     "output_type": "stream",
     "text": [
      "targets and constraints\n",
      "5 Elemental images\n",
      "field of view target = 3 mm\n",
      "resolution target = 6.0 um\n",
      "depth of field target = 0.2 mm\n",
      "\n",
      "\n"
     ]
    }
   ],
   "source": [
    "print('targets and constraints')\n",
    "N=5\n",
    "FOV_target = 3 # in mm, \n",
    "DOF_target = 0.2 # in mm, 200um\n",
    "Lambda_emission = 0.00051 # in nm, 510nm\n",
    "size_of_neuron = 0.015 # in mm, 15um\n",
    "sampling_factor = 2.5 # choose in pixels per cell, just a little higher than the Nyquist rate\n",
    "resolution_target = size_of_neuron/sampling_factor# in mm, 5um is alternative\n",
    "print(str(N) + ' Elemental images')\n",
    "print('field of view target = ' + str(round(FOV_target,2)) + ' mm')\n",
    "print('resolution target = ' + str(round(resolution_target*1000,2)) + ' um')\n",
    "print('depth of field target = ' + str(DOF_target) + ' mm')\n",
    "print('\\n')"
   ]
  },
  {
   "cell_type": "code",
   "execution_count": 272,
   "metadata": {},
   "outputs": [
    {
     "name": "stdout",
     "output_type": "stream",
     "text": [
      "decide on camera parameters\n",
      "pixel size = 2.6 um\n",
      "number of pixels = 67 Mpix\n",
      "\n",
      "\n"
     ]
    }
   ],
   "source": [
    "print('decide on camera parameters')\n",
    "delta = 0.0026 # in mm, 2.6um\n",
    "Mpix =  67\n",
    "print('pixel size = ' + str(delta*1000) + ' um')\n",
    "print('number of pixels = ' + str(Mpix) + ' Mpix')\n",
    "print('\\n')\n"
   ]
  },
  {
   "cell_type": "code",
   "execution_count": 267,
   "metadata": {},
   "outputs": [
    {
     "name": "stdout",
     "output_type": "stream",
     "text": [
      "\n",
      "Camera: 67 Mpix, 0.0026 um pixel size, 21.28 mm sensor size\n",
      "ideal MLA pitch = 4.256 mm\n",
      "necessary total magnification = x1.42\n",
      "\n",
      "necessary objective NA based on res target of 6.0 um = 0.11\n",
      "depth of field = 0.1 mm\n",
      "OR\n",
      "necessary objective NA based on DOF target of 0.2 mm = 0.07\n",
      "Resolution = 7.47 um\n"
     ]
    }
   ],
   "source": [
    "# calculations\n",
    "sensor_size =  np.sqrt(Mpix*10**6)*delta # in mm\n",
    "print('\\nCamera: ' + str(Mpix) + ' Mpix, ' + str(delta) + ' um pixel size, ' + str(round(sensor_size,2)) + ' mm sensor size')\n",
    "\n",
    "def pitch(sensor_size,N):\n",
    "    P = sensor_size/N\n",
    "    return P\n",
    "P = pitch(sensor_size,N)\n",
    "print('maximum MLA pitch = ' + str(round(P,3)) + ' mm')\n",
    "\n",
    "def necessary_total_magnification(FOV_target,P):\n",
    "    Mt = P/FOV_target\n",
    "    return Mt\n",
    "Mt = necessary_total_magnification(FOV_target,P)\n",
    "print('necessary total magnification = x' + str(round(Mt,2)))\n",
    "\n",
    "## base NA on resolution\n",
    "def necessary_NAobj_given_res(Lambda_emission,resolution_target,Mt,delta):\n",
    "    NAobj = Lambda_emission/(2*resolution_target-4*delta/Mt)\n",
    "    return NAobj\n",
    "NAobj_res=necessary_NAobj_given_res(Lambda_emission,resolution_target,Mt,delta)\n",
    "print('\\nnecessary objective NA based on res target of ' + str(round(resolution_target*1000,2)) + ' um = ' + str(round(NAobj_res,2)))\n",
    "\n",
    "def depth_of_field(Lambda_emission,NAobj,delta,Mt):\n",
    "    DOF = 2*Lambda_emission/(NAobj**2) + delta/(Mt*NAobj)\n",
    "    return DOF\n",
    "DOF = depth_of_field(Lambda_emission,NAobj_res,delta,Mt)\n",
    "print('depth of field = ' + str(round(DOF,2)) + ' mm')\n",
    "\n",
    "## base NA on DAF\n",
    "def objective_NA_given_DOF(DOF,Lambda_emission,delta,Mt):\n",
    "    NAobj = (np.sqrt(delta**2 + 8*DOF*Lambda_emission*Mt**2) - delta)/(2*DOF*Mt)\n",
    "    return NAobj\n",
    "NAobj_DOF = objective_NA_given_DOF(DOF_target,Lambda_emission,delta,Mt)\n",
    "print('OR\\nnecessary objective NA based on DOF target of ' + str(DOF_target) + ' mm = ' + str(round(NAobj_DOF,2)))\n",
    "\n",
    "def resolution_given_NA(Lambda_emission,NAobj,delta,Mt):\n",
    "    res = Lambda_emission/(2*NAobj) + 2*delta/Mt\n",
    "    return res\n",
    "resolution = resolution_given_NA(Lambda_emission,NAobj_DOF,delta,Mt)\n",
    "print('Resolution = ' + str(round(resolution*1000,2)) + ' um')\n",
    "print('\\n')"
   ]
  },
  {
   "cell_type": "code",
   "execution_count": 273,
   "metadata": {},
   "outputs": [
    {
     "name": "stdout",
     "output_type": "stream",
     "text": [
      "find MLA with pitch as close to max as possible and enter pitch and fMLA\n",
      "MLA pitch = 4.26 mm\n",
      "MLA focal length = 39 mm\n"
     ]
    }
   ],
   "source": [
    "print('find MLA with pitch as close to max as possible and enter pitch and fMLA')\n",
    "fMLA = 39 # in mm\n",
    "print('MLA pitch = ' + str(round(P,2)) + ' mm')\n",
    "print('MLA focal length = ' + str(fMLA) + ' mm')\n"
   ]
  },
  {
   "cell_type": "code",
   "execution_count": 260,
   "metadata": {},
   "outputs": [
    {
     "name": "stdout",
     "output_type": "stream",
     "text": [
      "necessary objective NA = 0.10921160628625944\n"
     ]
    },
    {
     "data": {
      "image/png": "[encoded data removed]",
      "text/plain": [
       "<Figure size 200x200 with 1 Axes>"
      ]
     },
     "metadata": {},
     "output_type": "display_data"
    }
   ],
   "source": [
    "plot = False\n",
    "if plot:\n",
    "    print('necessary objective NA = ' + str(NAobj_res))\n",
    "    AS_range = np.arange(0.01,10) # in mm, \n",
    "    fMO_range = np.arange(0.01,50) # in mm, Would this be the flange focal distance?\n",
    "\n",
    "    def necessary_AS_given_NA(NAobj,fMO):\n",
    "        AS = 2*fMO*np.tan(np.arcsin(NAobj))\n",
    "        return AS\n",
    "    AS_calc = necessary_AS_given_NA(NAobj_res,fMO_range)\n",
    "\n",
    "    AS_plot=AS_calc\n",
    "    fMO_plot=fMO_range\n",
    "\n",
    "    #2 suplots \n",
    "    plt.figure(1,figsize=(2,2))\n",
    "    plt.plot(AS_plot,fMO_plot)\n",
    "    plt.xlim(0,AS_range[-1])\n",
    "    plt.ylim(0,fMO_range[-1])\n",
    "    plt.ylabel('fMO (mm)')\n",
    "    plt.xlabel('AS (mm)')\n",
    "    plt.grid()\n"
   ]
  },
  {
   "cell_type": "code",
   "execution_count": null,
   "metadata": {},
   "outputs": [],
   "source": [
    "# decide on SLR focal length, and beam path length\n",
    "fMO = 20 # in mm\n",
    "beam_path = 400 # in mm"
   ]
  },
  {
   "cell_type": "code",
   "execution_count": 250,
   "metadata": {},
   "outputs": [
    {
     "name": "stdout",
     "output_type": "stream",
     "text": [
      "relay magnification = 1.37\n",
      "first relay focal length = 84.23 mm\n",
      "second relay focal length = 115.77 mm\n",
      "field stop = 12.63 mm\n"
     ]
    }
   ],
   "source": [
    "# decide on fMO the beam path length\n",
    "AS_chosen = 2 * fMO * np.tan(np.arcsin(NAobj_res))\n",
    "\n",
    "def relay_magnification(Mt,fMLA,fMO):\n",
    "    Mr = fMLA/(fMO*Mt)\n",
    "    return Mr\n",
    "    \n",
    "def second_relay_f(beam_path,Mr):\n",
    "    f2 = Mr*beam_path/(2*Mr+2)\n",
    "    return f2\n",
    "\n",
    "def first_relay_f(f2,Mr):\n",
    "    f1 = f2/Mr\n",
    "    return f1\n",
    "\n",
    "def field_stop(P,f2,fMLA):\n",
    "    FS = P*f2/fMLA\n",
    "    return FS\n",
    "\n",
    "Mr = relay_magnification(Mt,fMLA,fMO)\n",
    "f2 = second_relay_f(beam_path,Mr)\n",
    "f1 = first_relay_f(f2,Mr)\n",
    "FS = field_stop(P,f2,fMLA)\n",
    "\n",
    "print('relay magnification = ' + str(round(Mr,2)))\n",
    "print('first relay focal length = ' + str(round(f1,2)) + ' mm')\n",
    "print('second relay focal length = ' + str(round(f2,2)) + ' mm')\n",
    "print('field stop = ' + str(round(FS,2)) + ' mm')\n"
   ]
  },
  {
   "cell_type": "code",
   "execution_count": 256,
   "metadata": {},
   "outputs": [
    {
     "name": "stdout",
     "output_type": "stream",
     "text": [
      "Components\n",
      "Camera: 67 Mpix, pixel size 0.0026 mm, sensor size 21.28 mm\n",
      "MLA: pitch = 4.256 mm, focal length = 39 mm\n",
      "Objective: focal length 20 mm, objective aperture stop = 4.39 mm\n",
      "Relay: f1 = 84.23 mm, f2 = 115.77 mm, field stop = 12.63 mm\n",
      "\n",
      "Specs\n",
      "number of elemental images = 5\n",
      "Resolution = 6.0 um\n",
      "depth of field = 0.1 mm\n",
      "field of view = 3.0 mm\n"
     ]
    }
   ],
   "source": [
    "# summary\n",
    "print('Components')\n",
    "\n",
    "print('Camera: ' + str(Mpix) + ' Mpix, pixel size ' + str(delta) + ' mm, sensor size ' + str(round(sensor_size,2)) + ' mm')\n",
    "print('MLA: pitch = ' + str(round(P,3)) + ' mm, focal length = ' + str(round(fMLA,2)) + ' mm')\n",
    "print('Objective: focal length ' + str(round(fMO,2)) + ' mm, objective aperture stop = ' + str(round(AS_chosen,2)) + ' mm')\n",
    "print('Relay: f1 = ' + str(round(f1,2)) + ' mm, f2 = ' + str(round(f2,2)) + ' mm' + ', field stop = ' + str(round(FS,2)) + ' mm')\n",
    "\n",
    "# recalculate microscope specs\n",
    "def resolution(Lambda_emission,NAobj,delta,Mt):\n",
    "    res = Lambda_emission/(2*NAobj) + 2*delta/Mt\n",
    "    return res\n",
    "res = resolution(Lambda_emission,NAobj_res,delta,Mt)\n",
    "\n",
    "def depth_of_field(Lambda_emission,NAobj,delta,Mt):\n",
    "    DOF = 2*Lambda_emission/(NAobj**2) + delta/(Mt*NAobj)\n",
    "    return DOF\n",
    "DOF = depth_of_field(Lambda_emission,NAobj_res,delta,Mt)\n",
    "\n",
    "def field_of_view(P,Mt):\n",
    "    FOV = P/Mt\n",
    "    return FOV\n",
    "FOV = field_of_view(P,Mt)\n",
    "\n",
    "print('\\nSpecs')\n",
    "print('number of elemental images = ' + str(N))\n",
    "print('Resolution = ' + str(round(res*1000,2)) + ' um')\n",
    "print('depth of field = ' + str(round(DOF,2)) + ' mm')\n",
    "print('field of view = ' + str(round(FOV,2)) + ' mm')\n"
   ]
  }
 ],
 "metadata": {
  "kernelspec": {
   "display_name": "venv",
   "language": "python",
   "name": "python3"
  },
  "language_info": {
   "codemirror_mode": {
    "name": "ipython",
    "version": 3
   },
   "file_extension": ".py",
   "mimetype": "text/x-python",
   "name": "python",
   "nbconvert_exporter": "python",
   "pygments_lexer": "ipython3",
   "version": "3.9.6"
  }
 },
 "nbformat": 4,
 "nbformat_minor": 2
}
